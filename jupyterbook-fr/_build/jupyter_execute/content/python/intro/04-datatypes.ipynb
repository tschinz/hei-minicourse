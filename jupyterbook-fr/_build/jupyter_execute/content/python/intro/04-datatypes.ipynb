{
 "cells": [
  {
   "cell_type": "markdown",
   "id": "84ce5081",
   "metadata": {},
   "source": [
    "# Types de données Python\n",
    "\n",
    "Python peut être un peu étrange, car il offre de nombreux types de données, une attribution dynamique des types et quelques conversions automatiques.\n",
    "\n",
    "\n",
    "## Nombres\n",
    "\n",
    "Les nombres entiers, les nombres à virgule flottante et les nombres complexes sont automatiquement disponibles."
   ]
  },
  {
   "cell_type": "code",
   "execution_count": null,
   "id": "e9f30725",
   "metadata": {},
   "outputs": [],
   "source": [
    "f = 1.0\n",
    "i = 1\n",
    "c = 0.0 + 1.0j\n",
    "\n",
    "print(f, i, c)\n",
    "print(\"Value of f is {}, value of i is {}, the value of c is {}\".format(f, i, c))\n",
    "print(\"Value of f is {:f}, value of i is {:f}, value of c**2 is {:f}\".format(f, i, c**2))"
   ]
  },
  {
   "cell_type": "markdown",
   "id": "a890ae29",
   "metadata": {},
   "source": [
    "---\n",
    "\n",
    "```{note}\n",
    "The `math` module needs to be imported before you can use it.\n",
    "```"
   ]
  },
  {
   "cell_type": "code",
   "execution_count": null,
   "id": "3bfbda08",
   "metadata": {},
   "outputs": [],
   "source": [
    "import math\n",
    "\n",
    "math.sqrt(f)   # 1.0\n",
    "math.sqrt(c)   # can't convert complex to float\n",
    "math.sqrt(-1)  # math domain error"
   ]
  },
  {
   "cell_type": "markdown",
   "id": "926b1555",
   "metadata": {},
   "source": [
    "### Les nombres comme objets\n",
    "\n",
    "Pratiquement tout en Python est un objet. Cela signifie que c'est une _chose_ qui peut avoir plusieurs copies et qui sait comment _exécuter_ certaines opérations sur elle-même.\n",
    "\n",
    "Par exemple, un nombre à virgule flottante connaît certaines choses qu'il peut faire, plutôt que d'être simplement un nombre :"
   ]
  },
  {
   "cell_type": "code",
   "execution_count": null,
   "id": "88d856b2",
   "metadata": {},
   "outputs": [],
   "source": [
    "f\n",
    "help(f)\n",
    "\n",
    "f.is_integer()      # True\n",
    "i.imag              # 0\n",
    "f.__truediv__(2.0)  # 0.5"
   ]
  },
  {
   "cell_type": "markdown",
   "id": "c1bbfc1d",
   "metadata": {},
   "source": [
    "## Strings"
   ]
  },
  {
   "cell_type": "code",
   "execution_count": null,
   "id": "2c7b33a6",
   "metadata": {},
   "outputs": [],
   "source": [
    "string_1 = \"Hello\"\n",
    "string_1[0]          # H\n",
    "string_1[-1]         # o\n",
    "string_1[1:]         # ello\n",
    "string_1[:-2]        # Hel\n",
    "string_1[3:3]        # ''\n",
    "len(string_1)        # 5\n",
    "string_1 + ' World'  # Hello World"
   ]
  },
  {
   "cell_type": "code",
   "execution_count": null,
   "id": "f490b627",
   "metadata": {},
   "outputs": [],
   "source": [
    "string_2 = \"heLLo w0rlD\"\n",
    "string_2.replace(\"0\", o)  # heLLo world\n",
    "string_2.lower()          # hello w0rld\n",
    "string_2.capitalize()     # HeLLo W0rld"
   ]
  },
  {
   "cell_type": "code",
   "execution_count": null,
   "id": "fa3122a4",
   "metadata": {},
   "outputs": [],
   "source": [
    "string_3 = string_2.lower().capitalize().replace(\"0\", \"o\") # Hello world\n",
    "\n",
    "# Hello world\n",
    "# 012345678910\n",
    "\n",
    "string_3[6:] + \" \" + string_3[0:5] # World Hello"
   ]
  },
  {
   "cell_type": "markdown",
   "id": "5b18dde2",
   "metadata": {},
   "source": [
    "---\n",
    "\n",
    "En des problèmes des chaînes de caractères en tant que structures de données est toutefois qu'elles sont immuables. Pour modifier quelque chose, nous devons créer des copies des données."
   ]
  },
  {
   "cell_type": "code",
   "execution_count": null,
   "id": "eb13d251",
   "metadata": {
    "tags": [
     "raises-exception"
    ]
   },
   "outputs": [],
   "source": [
    "string_3[1] = 'a'  # creates exception"
   ]
  },
  {
   "cell_type": "markdown",
   "id": "c8210b54",
   "metadata": {},
   "source": [
    "---\n",
    "\n",
    "## Datastructure\n",
    "\n",
    "### `tuples`\n",
    "\n",
    "Les `tuples` sont des paquets de données sous forme structurée, et ils sont immuables. Ils sont définis avec des parenthèses `()`."
   ]
  },
  {
   "cell_type": "code",
   "execution_count": null,
   "id": "15b99e22",
   "metadata": {},
   "outputs": [],
   "source": [
    "tuple_1 = (1.0, 2.0, 0.0)\n",
    "tuple_2 = (3.0, 2.0, 4.0)\n",
    "\n",
    "tuple_1[1]         # 2.0\n",
    "tuple_1 + tuple_2  # (1.0, 2.0, 0.0, 3.0, 2.0, 4.0)\n",
    "2*tuple_1          # (1.0, 2.0, 0.0, 1.0, 2.0, 0.0)"
   ]
  },
  {
   "cell_type": "markdown",
   "id": "58caaa95",
   "metadata": {},
   "source": [
    "Certaines opérations ne peuvent pas être appliquées aux `tuples` **non**."
   ]
  },
  {
   "cell_type": "code",
   "execution_count": null,
   "id": "0c559735",
   "metadata": {
    "tags": [
     "raises-exception"
    ]
   },
   "outputs": [],
   "source": [
    "tuple_1-tuple_2\n",
    "tuple_1*tuple_2\n",
    "tuple_1[1] = 2"
   ]
  },
  {
   "cell_type": "markdown",
   "id": "db4cdad9",
   "metadata": {},
   "source": [
    "### `lists`\n",
    "\n",
    "Les \"listes\" sont plus flexibles que les `tuples`, des éléments peuvent leur être attribués ou retirés. Ce sont donc des `tuples` modifiables. Elles sont définies avec des crochets `[]`. Elles peuvent aussi être imbriquées les unes dans les autres et les types de données qu'elles contiennent peuvent être mélangés."
   ]
  },
  {
   "cell_type": "code",
   "execution_count": null,
   "id": "c6334eb7",
   "metadata": {},
   "outputs": [],
   "source": [
    "list_1 = [1.0, 2.0, 3.0]\n",
    "list_2 = ['a', 'b', 'c']\n",
    "list_3 = [1.0, 'a', (1, 2, 3), ['f', 'g', 'h']]"
   ]
  },
  {
   "cell_type": "code",
   "execution_count": null,
   "id": "14cab567",
   "metadata": {},
   "outputs": [],
   "source": [
    "list_1[2]      # 3.0\n",
    "list_2[-1]     # 'c'\n",
    "list_3[3]      # ['f', 'g', 'h']\n",
    "list_3[3][0]   # 'f'"
   ]
  },
  {
   "cell_type": "code",
   "execution_count": null,
   "id": "fb376995",
   "metadata": {},
   "outputs": [],
   "source": [
    "2*list_1            # [1.0, 2.0, 3.0, 1.0, 2.0, 3.0]\n",
    "list_+[0] = 0.0     #\n",
    "list_1              # [0.0, 2.0, 3.0]\n",
    "list_1.append(4.0)  # [0.0, 2.0, 3.0, 4.0]\n",
    "list_2 += 'b'       # ['a', 'b', 'c', 'b']\n",
    "list_2.remove('b')  # ['a', 'c', 'b']"
   ]
  },
  {
   "cell_type": "markdown",
   "id": "aa910c13",
   "metadata": {},
   "source": [
    "Certaines opérations ne peuvent pas être appliquées aux `lists` **non**."
   ]
  },
  {
   "cell_type": "code",
   "execution_count": null,
   "id": "92e483ed",
   "metadata": {
    "tags": [
     "raises-exception"
    ]
   },
   "outputs": [],
   "source": [
    "2.0*list_1"
   ]
  },
  {
   "cell_type": "markdown",
   "id": "720945b1",
   "metadata": {},
   "source": [
    "### `sets`\n",
    "\n",
    "Les `sets` sont des collections spéciales d'éléments uniques, semblables à des listes. Notez que les éléments ne sont pas ordonnés (il n'y a pas de \"s[1]\")."
   ]
  },
  {
   "cell_type": "code",
   "execution_count": null,
   "id": "86f2fcf5",
   "metadata": {},
   "outputs": [],
   "source": [
    "set_1 = set([6, 5, 4, 2, 1, 1, 1, 1])\n",
    "set_1         # {1, 2, 4, 5, 6}\n",
    "set_1.add(7)  # {1, 2, 4, 5, 6, 7}\n",
    "set_1.add(3)  # {1, 2, 3, 4, 5, 6, 7}\n",
    "set_1.add(1)  # {1, 2, 3, 4, 5, 6, 7}\n",
    "\n",
    "set_2 = set([5, 6, 7, 8, 9, 10, 11])\n",
    "\n",
    "set_1.intersection(set_2) # {5, 6, 7}\n",
    "set_1.union(set_2)        # {1, 2, 3, 4, 5, 6, 7, 8, 9, 10, 11}"
   ]
  },
  {
   "cell_type": "markdown",
   "id": "7e97d250",
   "metadata": {},
   "source": [
    "### Dictionaries\n",
    "\n",
    "Il s'agit de collections de données très utiles dans lesquelles les informations peuvent être recherchées à l'aide du nom plutôt que d'un index numérique. Ceci est très utile en tant que base de données légère et est souvent nécessaire lorsque des modules sont utilisés pour lire les données."
   ]
  },
  {
   "cell_type": "code",
   "execution_count": null,
   "id": "453dbdc1",
   "metadata": {},
   "outputs": [],
   "source": [
    "dict_1 = { \"item1\": ['a', 'b', 'c'], \"item2\": ['c', 'd', 'e']}\n",
    "dict_2 = {\"Small Number\":1.0, \"Tiny Number\":0.00000001, \"Big Number\": 100000000.0}"
   ]
  },
  {
   "cell_type": "code",
   "execution_count": null,
   "id": "2e2801dc",
   "metadata": {},
   "outputs": [],
   "source": [
    "dict_1[\"item1\"]      # ['a', 'b', 'c']\n",
    "dict_1[\"item1\"][1]   # 'b'\n",
    "\n",
    "dict_2[\"Small Number\"] + dict_2[\"Tiny Number\"]  # 1.00000001\n",
    "dict_2[\"Small Number\"] + dict_2[\"Big Number\"]   # 100000001.0\n",
    "\n",
    "dict_2.keys()  # dict_keys(['Small Number', 'Tiny Number', 'Big Number'])\n",
    "\n",
    "for k in dict_2.keys():\n",
    "  print(\"{:>15s}\".format(k), \" --> \", dict_2[k])\n",
    "\n",
    "# Small Number  -->  1.0\n",
    "#  Tiny Number  -->  1e-08\n",
    "#   Big Number  -->  100000000.0"
   ]
  },
  {
   "cell_type": "markdown",
   "id": "a68d5c8a",
   "metadata": {},
   "source": [
    "Plus utile encore est le fait que le dictionnaire peut avoir comme clé tout ce qui peut être transformé en un nombre unique avec la fonction `hash`. Les chaînes de caractères sinc pratkisch comme clés, mais tout ce qui est invariable peut être haché :"
   ]
  },
  {
   "cell_type": "markdown",
   "id": "33decbfc",
   "metadata": {
    "solution": "hidden"
   },
   "source": [
    "### Tâche : Créer une table de recherche inverse\n",
    "\n",
    "Supposons que vous disposiez d'un dictionnaire de numéros de téléphone :\n",
    "\n",
    "```python\n",
    "phone_book = {\"Rick Sanchez\":    (\"027\", \"374 92 97\"),\n",
    "              \"Morty Smith\":     (\"079\", \"566 14 57\"),\n",
    "              \"Richard Feynman\": (\"012\", \"345 67 89\")\n",
    "             }\n",
    "```\n",
    "\n",
    "Pouvez-vous créer un annuaire inversé pour savoir qui appelle à partir de son numéro de téléphone ?"
   ]
  },
  {
   "cell_type": "markdown",
   "id": "b3f6c4dc",
   "metadata": {
    "solution": "shown",
    "solution_first": true
   },
   "source": [
    "__Solution:__ Voici une solution possible pour la version simple du problème, mais celle-ci pourrait encore inclure un contrôle d'erreur (si l'on saisit un chiffre erroné)"
   ]
  },
  {
   "cell_type": "code",
   "execution_count": null,
   "id": "0ce4c551",
   "metadata": {
    "solution": "shown"
   },
   "outputs": [],
   "source": [
    "reverse_phone_book = {}\n",
    "for key in phone_book.keys():\n",
    "    reverse_phone_book[phone_book[key]] = key\n",
    "\n",
    "reverse_phone_book\n",
    "# {('027', '374 92 97'): 'Rick Sanchez',\n",
    "#  ('079', '566 14 57'): 'Morty Smith',\n",
    "#  ('012', '345 67 89'): 'Richard Feynman'}"
   ]
  }
 ],
 "metadata": {
  "jupytext": {
   "text_representation": {
    "extension": ".md",
    "format_name": "myst",
    "format_version": 0.13,
    "jupytext_version": "1.10.3"
   }
  },
  "kernelspec": {
   "display_name": "Python 3",
   "language": "python",
   "name": "python3"
  },
  "source_map": [
   12,
   23,
   31,
   39,
   45,
   53,
   60,
   64,
   75,
   82,
   89,
   95,
   99,
   109,
   116,
   120,
   125,
   131,
   137,
   144,
   151,
   155,
   158,
   164,
   175,
   181,
   186,
   201,
   206,
   221,
   225
  ]
 },
 "nbformat": 4,
 "nbformat_minor": 5
}