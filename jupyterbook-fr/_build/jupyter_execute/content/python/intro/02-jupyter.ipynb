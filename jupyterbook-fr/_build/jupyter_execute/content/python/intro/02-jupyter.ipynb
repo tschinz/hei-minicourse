{
 "cells": [
  {
   "cell_type": "markdown",
   "id": "051bba6d",
   "metadata": {
    "deletable": true,
    "editable": true
   },
   "source": [
    "(section:jupyter_notebook)=\n",
    "# Jupyter Notebooks\n",
    "\n",
    "Dans tous nos exemples, nous utiliserons le système de bloc-notes `jupyter` et dans les blocs-notes eux-mêmes une version de Python, connue sous le nom de `ipython`.\n",
    "\n",
    "Le carnet de notes est un document __vivant__ qui peut contenir plusieurs types de contenus différents. Il peut s'agir d'éléments de texte formatés en Markdown ou de questions de programme qui peuvent également être exécutées. Actuellement, nous considérons la page web statique dans laquelle le code ne peut pas être exécuté. Pour cela, il faut lancer la page en tant que livre interactif de Noritz sur Binder dans l'icône de raquette.\n",
    "\n",
    "```{figure} img/rocket-icon.png\n",
    "---\n",
    "width: 80%\n",
    "name: Rocket icon\n",
    "---\n",
    "Démarrage du Jupyter Notebook\n",
    "```\n",
    "\n",
    "Vous pouvez utiliser les carnets comme bloc-notes pour écrire du code et le documenter en même temps.\n",
    "C'est comme un carnet de laboratoire, mais pour la manipulation de données et la programmation.\n",
    "Vous pouvez également exporter le document créé au format PDF pour créer un rapport de laboratoire.\n",
    "\n",
    "Notez que le carnet de notes n'est pas enregistré sur Binder, dès que vous fermez le site, vos modifications sont perdues. N'oubliez pas de sauvegarder le document sur votre ordinateur si vous souhaitez le conserver."
   ]
  },
  {
   "cell_type": "markdown",
   "id": "107153d5",
   "metadata": {},
   "source": [
    "Un carnet de notes est composé de plusieurs __cellules__ (Cells) qui contiennent différents types de contenus et qui peuvent être _exécutés_ en sélectionnant la cellule et en l'_exécutant_ en appuyant sur le bouton _Run_ ou en tapant \"Shift + Enter\".\n",
    "Les résultats de l'exécution d'une cellule dépendent de son contenu. Elle peut générer une cellule de sortie sous-jacente avec des résultats ou se reformater elle-même.\n",
    "\n",
    "(section:markdowncells)=\n",
    "## Cellules de Markdown\n",
    "Vous trouverez un résumé Markdown [ici](https://github.com/adam-p/markdown-here/wiki/Markdown-Cheatsheet). Le formatage en Markdown se présente comme suit :\n",
    "\n",
    "````md\n",
    "### Texte formaté\n",
    "\n",
    "Nous utilisons ici une version presque prête du texte formaté, connue sous le nom de \"Markdown\", pour créer un contenu qui peut être formaté de manière à ressembler à un document Word, mais qui met également en évidence le formatage prévu, même s'il n'est pas traité. C'est une forme assez utile que l'on peut apprendre à utiliser pour prendre des notes.\n",
    "\n",
    "Si vous regardez le contenu brut, vous verrez comment on peut\n",
    "\n",
    "* des puces\n",
    "  * des puces imbriquées ainsi que\n",
    "  * du texte en __gras__\n",
    "  * du texte en _italique_ (ou en surbrillance)\n",
    "\n",
    "\n",
    "```sh\n",
    "echo \"Code pouvant être mis en évidence pour différentes langues\"\n",
    "ls -l\n",
    "```\n",
    "\n",
    "```python\n",
    "print(\"y compris Python, les scripts shell Unix, Fortran\")\n",
    "\n",
    "for i in range(0,100):\n",
    "    print(i)\n",
    "```\n",
    "\n",
    "Les symboles et formules mathématiques, peuvent apparaître à l'intérieur d'un texte $2\\pi r$ ou sous forme d'équation :\n",
    "\n",
    "$$\n",
    "    A = \\pi r^2\n",
    "$$\n",
    "\n",
    "MAIS vous devez être en mesure de décrire les formules dans le langage $\\LaTeX$.\n",
    "\n",
    "Vous pouvez ajouter des liens comme ceux-ci : [voir aussi la feuille de contrôle Markdown](https://github.com/adam-p/markdown-here/wiki/Markdown-Cheatsheet)\n",
    "\n",
    "Et des images comme celle-ci :\n",
    "\n",
    "![Python Course](./../img/python-course.svg)\n",
    "\n",
    "````\n",
    "---\n",
    "C'est ce qui ressort du paragraphe suivant :\n",
    "\n",
    "### Texte formaté\n",
    "\n",
    "Nous utilisons ici une version presque prête à l'emploi du texte, connue sous le nom de \"Markdown\", pour créer un contenu qui peut être formaté de manière à ressembler à un document Word, mais qui met également en évidence le formatage prévu, même s'il n'est pas traité. C'est une forme assez utile que l'on peut apprendre à utiliser pour prendre des notes.\n",
    "\n",
    "Si vous regardez le contenu brut, vous verrez comment on peut\n",
    "\n",
    "* des puces\n",
    "  * des puces imbriquées ainsi que\n",
    "  * du texte en __gras__\n",
    "  * du texte en _cursivité_ (ou en surbrillance).\n",
    "\n",
    "```sh\n",
    "echo \"Code pouvant être mis en surbrillance pour différentes langues\"\n",
    "ls -l\n",
    "```\n",
    "\n",
    "```python\n",
    "print(\"y compris Python, scripts shell Unix, Fortran\")\n",
    "\n",
    "for i in range(0,100) :\n",
    "    print(i)\n",
    "```\n",
    "\n",
    "Les symboles et formules mathématiques, peuvent apparaître à l'intérieur d'un texte $2\\pi r$ ou sous forme d'équation :\n",
    "\n",
    "$$\n",
    "    A = \\pi r^2\n",
    "$$\n",
    "\n",
    "MAIS vous devez être en mesure de décrire les formules dans le langage $\\LaTeX$.\n",
    "\n",
    "Vous pouvez ajouter des liens comme ceux-ci : [voir aussi la feuille de contrôle Markdown](https://github.com/adam-p/markdown-here/wiki/Markdown-Cheatsheet)\n",
    "\n",
    "Et des images comme celle-ci :\n",
    "\n",
    "![Python Course](img/python-course.svg)\n",
    "\n",
    "```{note}\n",
    "Lorsque vous exécutez des cellules avec du code formaté, la cellule est remplacée par la version formatée. Vous pouvez ainsi écrire une page bien formatée avec du code imbriqué qui peut également être exécuté.\n",
    "```\n",
    "\n",
    "---\n",
    "\n",
    "(section:pythoncells)=\n",
    "## Python-Code\n",
    "\n",
    "Les cellules définies comme cellules de code contiennent des instructions Python qui sont exécutées lorsque la cellule est exécutée. Si plusieurs cellules contiennent du code, elles seront exécutées dans l'ordre que vous avez choisi (ou si vous choisissez \"run all\" ou \"run all above\", elles seront exécutées dans l'ordre dans lequel elles sont listées)."
   ]
  },
  {
   "cell_type": "code",
   "execution_count": null,
   "id": "3e41e6ed",
   "metadata": {
    "jupyter": {
     "outputs_hidden": false
    },
    "solution": "hidden"
   },
   "outputs": [],
   "source": [
    "## Exemple d'une cellule de code Python simple\n",
    "\n",
    "print(\"Bonjour, petit monde\")\n",
    "a = 1"
   ]
  },
  {
   "cell_type": "markdown",
   "id": "b42c12b1",
   "metadata": {
    "deletable": true,
    "editable": true
   },
   "source": [
    "Si vous exécutez une cellule de code, c'est la même chose que si vous aviez saisi tout le code dans l'interpréteur. Si vous exécutez une cellule deux fois, c'est comme si vous aviez tout saisi deux fois... le bloc-notes s'en souvient ! Vous pouvez exécuter une partie ou la totalité du bloc-notes, et vous pouvez aussi exécuter les cellules dans un ordre différent. C'est une excellente façon d'expérimenter, mais attention, cela peut aussi être partiellement déroutant.\n",
    "\n",
    "## Exemple\n",
    "Voici un petit exemple. Pourquoi la cellule ci-dessous fonctionne-t-elle mais pas la suivante ?"
   ]
  },
  {
   "cell_type": "code",
   "execution_count": null,
   "id": "faa9a062",
   "metadata": {
    "jupyter": {
     "outputs_hidden": false
    }
   },
   "outputs": [],
   "source": [
    "print(\"Compteur {}\".format(a))\n",
    "a += 1"
   ]
  },
  {
   "cell_type": "markdown",
   "id": "639ce4d8",
   "metadata": {
    "deletable": true,
    "editable": true
   },
   "source": [
    "Pourquoi cela ne fonctionne-t-il pas ?\n",
    "\n",
    "```python\n",
    "print(\"Compteur {}\".format(b))\n",
    "b += 1\n",
    "```\n",
    "\n",
    "et, plus important encore, comment régleriez-vous le problème ?\n",
    "\n",
    "Démarrez le notebook et éditez la cellule ci-dessous. La cellule peut être modifiée avec <kbd>Shift</kbd>+<kbd>&#9166;</kbd> être exécutés."
   ]
  },
  {
   "cell_type": "code",
   "execution_count": null,
   "id": "a40ff338",
   "metadata": {
    "Solution": "hidden",
    "jupyter": {
     "outputs_hidden": false
    }
   },
   "outputs": [],
   "source": [
    "# Essayez !"
   ]
  },
  {
   "cell_type": "code",
   "execution_count": null,
   "id": "2edcd308",
   "metadata": {
    "tags": [
     "hide-cell"
    ]
   },
   "outputs": [],
   "source": [
    "## Parce que b n'a pas encore été défini, mais a l'a été dans la cellule précédente.\n",
    "\n",
    "try:\n",
    "    print(\"Compteur {}\".format(c))\n",
    "except:\n",
    "    print(\"Compteur\")\n",
    "    c = 1\n",
    "\n",
    "c += 1"
   ]
  },
  {
   "cell_type": "markdown",
   "id": "9cf93f52",
   "metadata": {},
   "source": [
    "## Utiliser Jupyter\n",
    "\n",
    "Dans ce cours, nous allons résoudre les problèmes de manière interactive sur un serveur Jupyter. Vous avez déjà appris à démarrer le notebook sur [Binder](https://jupyter.org/binder) à l'aide de l'icône Rocket [en début de page](section:jupyter_notebook). Grâce à ce serveur, vous pouvez ajouter, supprimer et compléter le code pour l'exécuter ensuite.\n",
    "\n",
    "Jupyternotebook est basé sur des cellules, comme nous l'avons déjà mentionné. Les cellules peuvent être soit [texte formaté au format Markdown](section:markdowncells) soit [code Python](section:pythoncells). Chaque cellule peut être exécutée séparément.\n",
    "\n",
    "Le type de cellule actuel peut être sélectionné dans la Dropbox.\n",
    "\n",
    "```{figure} img/jupyter_command_bar_celltype.png\n",
    "---\n",
    "width: 80%\n",
    "name: jupyter celltype\n",
    "---\n",
    "Sélection ou modification d'un type de cellule\n",
    "```\n",
    "\n",
    "De nouvelles cellules peuvent être insérées via le menu `Insert`.\n",
    "\n",
    "```{figure} img/jupyter_command_bar_insert.png\n",
    "---\n",
    "width: 80%\n",
    "name: jupyter cellinsert\n",
    "---\n",
    "Ajouter une cellule\n",
    "```\n",
    "\n",
    "Une cellule peut être exécutée soit avec le bouton `Run` soit avec <kbd>Shift</kbd>+<kbd>&#9166;</kbd> peuvent être exécutées. Il est également possible d'exécuter toutes les cellules supérieures ou inférieures via le menu `Cell`.\n",
    "\n",
    "```{figure} img/jupyter_command_bar_run.png\n",
    "---\n",
    "width: 80%\n",
    "name: jupyter cellrun\n",
    "---\n",
    "Exécuter une cellule\n",
    "```\n",
    "\n",
    "Dès qu'une cellule est exécutée, elle est visible via un cercle plein en haut à droite. Ce point indique si le noyau Python est actif ou non.\n",
    "\n",
    "```{figure} img/jupyter_command_bar_running.png\n",
    "---\n",
    "largeur : 80%\n",
    "nom : jupyter cellrunning\n",
    "---\n",
    "Le noyau Python est actif\n",
    "```\n",
    "\n",
    "De plus, à droite de la cellule se trouve une remarque `ln[<x>]`.\n",
    "\n",
    "Celle-ci indique si une cellule est actuellement en cours d'exécution `In [*]:`. Ou quand la cellule a été exécutée depuis le démarrage du noyau Python `In [3]:`. Le numéro est incrémenté pour chaque cellule listée.\n",
    "\n",
    "Si une cellule doit être arrêtée, par exemple si le calcul prend trop de temps, cela peut se faire avec le bouton `Stop`.\n",
    "\n",
    "```{figure} img/jupyter_command_bar_stop.png\n",
    "---\n",
    "largeur : 80%\n",
    "nom : jupyter cellstop\n",
    "---\n",
    "Arrêter une exécution\n",
    "```\n",
    "\n",
    "Juste en dessous de la cellule se trouve la fenêtre de l'édition de la cellule en question.\n",
    "\n",
    "```{note}\n",
    "Vous devriez maintenant avoir toutes les informations nécessaires pour exécuter Jupter Notebooks.\n",
    "```"
   ]
  }
 ],
 "metadata": {
  "jupytext": {
   "text_representation": {
    "extension": ".md",
    "format_name": "myst",
    "format_version": "0.9",
    "jupytext_version": "1.5.2"
   }
  },
  "kernelspec": {
   "display_name": "Python 3",
   "language": "python",
   "name": "python3"
  },
  "source_map": [
   14,
   37,
   137,
   149,
   156,
   165,
   178,
   187,
   199
  ]
 },
 "nbformat": 4,
 "nbformat_minor": 5
}