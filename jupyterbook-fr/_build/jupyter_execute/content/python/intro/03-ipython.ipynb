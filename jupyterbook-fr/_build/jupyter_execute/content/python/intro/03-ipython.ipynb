{
 "cells": [
  {
   "cell_type": "markdown",
   "id": "d1c4bd23",
   "metadata": {
    "deletable": true,
    "editable": true
   },
   "source": [
    "# ipython \n",
    "\n",
    "[ipython](https://ipython.org) est une version _interactive_ de l'interpréteur Python. Il offre un certain nombre d'extras qui sont utiles pour l'écriture de code. Le code \"ipython\" est presque toujours du code \"Python\", et les différences n'ont généralement d'importance que si l'on travaille sur le code dans un environnement interactif.\n",
    "\n",
    "## ipython et Jupyternotebook\n",
    "\n",
    "Le bloc-notes \"Jupyter\" est un bon exemple d'environnement interactif - vous modifiez le code pendant qu'il s'exécute et vérifiez les réponses pendant que vous exécutez des cellules. Comme vous pouvez avoir beaucoup de résultats à moitié terminés dans un script interactif, vous voulez probablement faire le moins d'erreurs possible. C'est le but de `ipython`.\n",
    "\n",
    "`ipython` donne accès au système d'aide/documentation, offre la complétion par tabulation des noms de variables et de fonctions, vous permet de voir quelles méthodes sont présentes dans un module ..."
   ]
  },
  {
   "cell_type": "code",
   "execution_count": null,
   "id": "c041a4df",
   "metadata": {
    "deletable": true,
    "editable": true,
    "jupyter": {
     "outputs_hidden": true
    }
   },
   "outputs": [],
   "source": [
    "## Essayer l'autocomplétion ... il fonctionne sur les fonctions qui sont dans le champ d'application\n",
    "\n",
    "print\n",
    "\n",
    "# it also works on variables\n",
    "\n",
    "long_but_helpful_variable_name = 1\n",
    "\n",
    "long_but_helpful_variable_name"
   ]
  },
  {
   "cell_type": "markdown",
   "id": "65a9b3aa",
   "metadata": {
    "deletable": true,
    "editable": true
   },
   "source": [
    "---\n",
    "\n",
    "Cela fonctionne avec des modules pour lister les méthodes et les variables disponibles. Prenez par exemple le module \"math\" :"
   ]
  },
  {
   "cell_type": "code",
   "execution_count": null,
   "id": "84df5c79",
   "metadata": {
    "deletable": true,
    "editable": true,
    "jupyter": {
     "outputs_hidden": false
    },
    "tags": []
   },
   "outputs": [],
   "source": [
    "import math\n",
    "\n",
    "math.isinf # Try completion on this\n",
    "\n",
    "help(math.isnan)\n",
    "\n",
    "# try math.isinf() and hit <kbd>Shift</kbd>+<kbd>Tabulator</kbd> while the cursor is between the parentheses\n",
    "# you should see the same help pop up.\n",
    "\n",
    "# math.isinf()"
   ]
  },
  {
   "cell_type": "markdown",
   "id": "47684abd",
   "metadata": {
    "deletable": true,
    "editable": true
   },
   "source": [
    "---\n",
    "\n",
    "Il fonctionne pour les fonctions qui acceptent des arguments spéciaux et vous dit ce que vous devez spécifier.\n",
    "\n",
    "Essayez-le et essayez d'ajouter un <kbd>Tabulator</kbd> aux parenthèses si vous utilisez vous-même cette fonction :"
   ]
  },
  {
   "cell_type": "code",
   "execution_count": null,
   "id": "13cd50be",
   "metadata": {
    "deletable": true,
    "editable": true,
    "jupyter": {
     "outputs_hidden": false
    },
    "tags": [
     "raises-exception"
    ]
   },
   "outputs": [],
   "source": [
    "import string\n",
    "string.capwords(\"the quality of mercy is not strained\")\n",
    "\n",
    "string.capwords()"
   ]
  },
  {
   "cell_type": "markdown",
   "id": "44c07b8a",
   "metadata": {
    "deletable": true,
    "editable": true
   },
   "source": [
    "## Commandes en ligne de commande\n",
    "\n",
    "Il offre également la possibilité d'exécuter des commandes en ligne de commande en utilisant le shell/système de fichiers sous-jacent. Ces erreurs doivent être marquées au début de chaque ligne avec un `!`.. **Ce n'est plus du code Python**."
   ]
  },
  {
   "cell_type": "code",
   "execution_count": null,
   "id": "99f7df8c",
   "metadata": {
    "deletable": true,
    "editable": true,
    "jupyter": {
     "outputs_hidden": false
    }
   },
   "outputs": [],
   "source": [
    "# execute les commandes simples du shell unix\n",
    "\n",
    "!ls\n",
    "\n",
    "!echo \"\"\n",
    "\n",
    "!pwd"
   ]
  },
  {
   "cell_type": "markdown",
   "id": "905fe7de",
   "metadata": {
    "deletable": true,
    "editable": true
   },
   "source": [
    "---\n",
    "\n",
    "## Magics\n",
    "\n",
    "Une autre possibilité est d'utiliser la fonctionnalité __cell magic__ pour demander au notebook de changer la cellule en quelque chose d'autre (ici, tout ce qui se trouve dans la cellule est interprété comme un shell Unix). Pour cela, il faut indiquer le **magic** au début de la cellule. Ces commandes commencent par `%%` ou `%`."
   ]
  },
  {
   "cell_type": "code",
   "execution_count": null,
   "id": "d3901655",
   "metadata": {
    "deletable": true,
    "editable": true,
    "jupyter": {
     "outputs_hidden": false
    }
   },
   "outputs": [],
   "source": [
    "%%sh\n",
    "\n",
    "ls -l\n",
    "echo \"\"\n",
    "pwd"
   ]
  },
  {
   "cell_type": "markdown",
   "id": "843c4885",
   "metadata": {
    "deletable": true,
    "editable": true
   },
   "source": [
    "---\n",
    "\n",
    "  - Un \"%\" est une fonction magique d'une seule ligne qui peut être placée n'importe où dans la cellule.\n",
    "  - Un `%%` est une fonction magique à l'échelle de la cellule."
   ]
  },
  {
   "cell_type": "code",
   "execution_count": null,
   "id": "e40989af",
   "metadata": {
    "deletable": true,
    "editable": true,
    "jupyter": {
     "outputs_hidden": true
    }
   },
   "outputs": [],
   "source": [
    "%magic # pour voir EVERYTHING dans le système magique !"
   ]
  },
  {
   "cell_type": "markdown",
   "id": "a3972961",
   "metadata": {
    "deletable": true,
    "editable": true
   },
   "source": [
    "Fonctions magiques utiles :\n",
    "\n",
    "   - `%matplotlib inline` fait en sorte que les tracés apparaissent dans le bloc-notes et non dans une fenêtre externe.\n",
    "   - `%run FILE` exécute le contenu du fichier à la place de la cellule indiquée\n",
    "   - `%%timeit` mesure le temps que met la cellule à s'exécuter\n",
    "\n",
    "---"
   ]
  },
  {
   "cell_type": "markdown",
   "id": "19d91e13",
   "metadata": {
    "deletable": true,
    "editable": true
   },
   "source": [
    "Vous pouvez également exécuter ipython dans le terminal/shell de votre ordinateur. Vous verrez qu'une partie de l'interactivité fonctionne également dans un environnement texte, mais que les aides contextuelles ne sont pas toutes aussi utiles que dans les carnets de notes."
   ]
  }
 ],
 "metadata": {
  "jupytext": {
   "text_representation": {
    "extension": ".md",
    "format_name": "myst",
    "format_version": 0.12,
    "jupytext_version": "1.6.0"
   }
  },
  "kernelspec": {
   "display_name": "Python 3",
   "language": "python",
   "name": "python3"
  },
  "source_map": [
   14,
   26,
   44,
   50,
   70,
   78,
   92,
   98,
   114,
   122,
   136,
   143,
   153,
   163
  ]
 },
 "nbformat": 4,
 "nbformat_minor": 5
}