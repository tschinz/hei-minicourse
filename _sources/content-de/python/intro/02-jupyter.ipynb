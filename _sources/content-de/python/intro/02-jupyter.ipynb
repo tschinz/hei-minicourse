{
 "cells": [
  {
   "cell_type": "markdown",
   "id": "19ac9c9e",
   "metadata": {
    "deletable": true,
    "editable": true
   },
   "source": [
    "(section:jupyter_notebook)=\n",
    "# Jupyter Notebooks\n",
    "\n",
    "Wir werden in all unseren Beispielen das Notizbuchsystem `jupyter` verwenden und in den Notizbüchern selbst eine Version von Python, bekannt als `ipython`.\n",
    "\n",
    "Das Notizbuch ist ein __lebendiges__ Dokument, das eine Reihe verschiedener Arten von Inhalten enthalten kann. Dies können Textelemente formatiert in Markdown oder Programfragemente sein welche auch ausgeführt werden können. Aktuell betrachten Sie die statische Webseite worin der Code nicht ausgeührt werden kann. Hierzu müssen die Im Racktensymbol die Seite als interaktives Noritzbuch auf Binder starten.\n",
    "\n",
    "\n",
    "```{figure} img/rocket-icon.png\n",
    "---\n",
    "width: 80%\n",
    "name: Rocket icon\n",
    "---\n",
    "Starten des Jupyter Notebooks\n",
    "```\n",
    "\n",
    "Sie können die Notizbücher als Notizblock verwenden, um Code zu schreiben und diesen gleichzeitig zu dokumentieren.\n",
    "Es ist wie ein Labornotizbuch, aber für Datenmanipulation und Programmierung.\n",
    "Sie können das erstellte Dokument auch als PDF exportieren, um einen Laborbericht zu erstellen.\n",
    "\n",
    "Beachten Sie das das Notizbuch auf Binder nicht gespeichert wird, sobald Sie die Webseite schliessen werden Ihre Modifikationen verloren sein. Vergessen Sie nicht das Dokument auf Ihrem Computer zu speichern falls Sie es behalten möchten."
   ]
  },
  {
   "cell_type": "markdown",
   "id": "adc7c7aa",
   "metadata": {},
   "source": [
    "Ein Notizbuch besteht aus verschiedenen __Zellen__ (Cells), die verschiedene Arten von Inhalten enthalten und die _ausgeführt_ werden können, indem man die Zelle auswählt und sie _ausführt_ durch Betätigen des _Run_ Knopfes oder durch Eingabe von \"Shift + Enter\".\n",
    "Die Ergebnisse der Ausführung einer Zelle hängen vom Inhalt der Zelle ab. Sie kann eine darunter liegende Ausgabezelle mit Ergebnissen erzeugen oder sich selbst neu formatieren.\n",
    "\n",
    "(section:markdowncells)=\n",
    "## Markdown Zellen\n",
    "Eine Markdown Zusammenfassung finden Sie [hier](https://github.com/adam-p/markdown-here/wiki/Markdown-Cheatsheet). Die Formatierung in Markdown sieht folgendermassen aus:\n",
    "\n",
    "````md\n",
    "### Formatierter Text\n",
    "\n",
    "Hier wird eine fast fertig formatierte Version von Text verwendet, die als \"Markdown\" bekannt ist, um Inhalte zu erstellen, die so formatiert werden können, dass sie einem Word-Dokument ähneln, aber auch die beabsichtigte Formatierung hervorheben, selbst wenn sie nicht verarbeitet werden. Es ist eine recht nützliche Form, die man lernen kann, um Notizen zu machen.\n",
    "\n",
    "Wenn Sie sich den Rohinhalt ansehen, werden Sie sehen, wie man\n",
    "\n",
    "* Aufzählungspunkte\n",
    "  * verschachtelte Aufzählungspunkte sowie\n",
    "  * Text in __fett__\n",
    "  * Text in _Kursivschrift_ (oder hervorgehoben)\n",
    "\n",
    "```sh\n",
    "echo \"Code, der für verschiedene Sprachen hervorgehoben werden kann\"\n",
    "ls -l\n",
    "```\n",
    "\n",
    "```python\n",
    "print(\"einschließlich Python, Unix-Shell-Skripte, Fortran\")\n",
    "\n",
    "for i in range(0,100):\n",
    "    print(i)\n",
    "```\n",
    "\n",
    "Mathematische Symbole und Formeln, können innerhalb eines Textes $2\\pi r$ oder als Gleichung erscheinen:\n",
    "\n",
    "$$\n",
    "    A = \\pi r^2\n",
    "$$\n",
    "\n",
    "ABER Sie müssen in der Lage sein, die Formeln in der Sprache $\\LaTeX$ zu beschreiben.\n",
    "\n",
    "Sie können Links wie diese hinzufügen: [siehe auch das Markdown Cheatsheet](https://github.com/adam-p/markdown-here/wiki/Markdown-Cheatsheet)\n",
    "\n",
    "Und Bilder wie dieses:\n",
    "\n",
    "![Python Course](./../img/python-course.svg)\n",
    "\n",
    "````\n",
    "---\n",
    "Dies ergibt der folgender Paragraph:\n",
    "\n",
    "### Formatierter Text\n",
    "\n",
    "Hier wird eine fast fertig formatierte Version von Text verwendet, die als \"Markdown\" bekannt ist, um Inhalte zu erstellen, die so formatiert werden können, dass sie einem Word-Dokument ähneln, aber auch die beabsichtigte Formatierung hervorheben, selbst wenn sie nicht verarbeitet werden. Es ist eine recht nützliche Form, die man lernen kann, um Notizen zu machen.\n",
    "\n",
    "Wenn Sie sich den Rohinhalt ansehen, werden Sie sehen, wie man\n",
    "\n",
    "* Aufzählungspunkte\n",
    "  * verschachtelte Aufzählungspunkte sowie\n",
    "  * Text in __fett__\n",
    "  * Text in _Kursivschrift_ (oder hervorgehoben)\n",
    "\n",
    "```sh\n",
    "echo \"Code, der für verschiedene Sprachen hervorgehoben werden kann\"\n",
    "ls -l\n",
    "```\n",
    "\n",
    "```python\n",
    "print(\"einschließlich Python, Unix-Shell-Skripte, Fortran\")\n",
    "\n",
    "for i in range(0,100):\n",
    "    print(i)\n",
    "```\n",
    "\n",
    "Mathematische Symbole und Formeln, können innerhalb eines Textes $2\\pi r$ oder als Gleichung erscheinen:\n",
    "\n",
    "$$\n",
    "    A = \\pi r^2\n",
    "$$\n",
    "\n",
    "ABER Sie müssen in der Lage sein, die Formeln in der Sprache $\\LaTeX$ zu beschreiben.\n",
    "\n",
    "Sie können Links wie diese hinzufügen: [siehe auch das Markdown Cheatsheet](https://github.com/adam-p/markdown-here/wiki/Markdown-Cheatsheet)\n",
    "\n",
    "Und Bilder wie dieses:\n",
    "\n",
    "![Python Course](img/python-course.svg)\n",
    "\n",
    "```{note}\n",
    "Wenn Sie Zellen mit formatiertem Code ausführen, wird die Zelle durch die formatierte Version ersetzt. So können Sie eine gut formatierte Seite mit verschachteltem Code schreiben, der auch ausgeführt werden kann.\n",
    "```\n",
    "---\n",
    "\n",
    "(section:pythoncells)=\n",
    "## Python-Code\n",
    "\n",
    "Zellen, die als Codezellen definiert sind, enthalten Python-Anweisungen, die ausgeführt werden, wenn die Zelle ausgeführt wird. Wenn mehrere Zellen Code enthalten, werden sie in der von Ihnen gewählten Reihenfolge ausgeführt (oder wenn Sie \"run all\" oder \"run all above\" wählen, werden sie in der Reihenfolge ausgeführt, in der sie aufgelistet sind)."
   ]
  },
  {
   "cell_type": "code",
   "execution_count": null,
   "id": "5e71da38",
   "metadata": {
    "jupyter": {
     "outputs_hidden": false
    },
    "solution": "hidden"
   },
   "outputs": [],
   "source": [
    "## Beispiel für eine einfache Python-Code-Zelle\n",
    "\n",
    "print(\"Hallo kleine Welt\")\n",
    "a = 1"
   ]
  },
  {
   "cell_type": "markdown",
   "id": "bfc3b9cf",
   "metadata": {
    "deletable": true,
    "editable": true
   },
   "source": [
    "Wenn Sie eine Code-Zelle ausführen, ist es dasselbe, als wenn Sie den gesamten Code in den Interpreter eingeben. Wenn Sie eine Zelle zweimal ausführen, ist es dasselbe, als hätten Sie alles zweimal eingegeben ... das Notizbuch merkt sich das! Sie können einen Teil des Notizbuchs oder das gesamte Notizbuch ausführen, und Sie können Zellen auch in anderer Reihenfolge ausführen. Das ist großartig, um zu experimentieren, aber seien Sie vorsichtig, das kann auch teilweise verwirrend sein.\n",
    "\n",
    "## Beispiel\n",
    "Hierzu ein kleines Beispiel. Wiso funktioniert die untenstehende Zelle aber die nächste nicht?"
   ]
  },
  {
   "cell_type": "code",
   "execution_count": null,
   "id": "eac6d813",
   "metadata": {
    "jupyter": {
     "outputs_hidden": false
    }
   },
   "outputs": [],
   "source": [
    "print(\"Zähler {}\".format(a))\n",
    "a += 1"
   ]
  },
  {
   "cell_type": "markdown",
   "id": "fa3f24a2",
   "metadata": {
    "deletable": true,
    "editable": true
   },
   "source": [
    "Warum funktioniert das nicht?\n",
    "\n",
    "```python\n",
    "print(\"Zähler {}\".format(b))\n",
    "b += 1\n",
    "```\n",
    "\n",
    "und, was noch wichtiger ist, wie würden Sie das Problem beheben?\n",
    "\n",
    "Starten Sie das Notebook und editieren Sie die untenstehende Zelle. Die Zelle kann mit <kbd>Shift</kbd>+<kbd>&#9166;</kbd> ausgeführt werden."
   ]
  },
  {
   "cell_type": "code",
   "execution_count": null,
   "id": "5e3ad7e3",
   "metadata": {
    "Solution": "hidden",
    "jupyter": {
     "outputs_hidden": false
    }
   },
   "outputs": [],
   "source": [
    "# Versuchen Sie es!"
   ]
  },
  {
   "cell_type": "code",
   "execution_count": null,
   "id": "c146c3c8",
   "metadata": {
    "tags": [
     "hide-cell"
    ]
   },
   "outputs": [],
   "source": [
    "## Weil b noch nicht definiert wurde, a aber in der davorgegangenen Zelle schon.\n",
    "\n",
    "try:\n",
    "    print(\"Zähler {}\".format(c))\n",
    "except:\n",
    "    print(\"Zähler\")\n",
    "    c = 1\n",
    "\n",
    "c += 1"
   ]
  },
  {
   "cell_type": "markdown",
   "id": "5b7abf6a",
   "metadata": {},
   "source": [
    "## Jupyter benutzten\n",
    "\n",
    "In diesem Kurs werden wir die Aufgaben interaktiv auf einem Jupyter Server lösen. Das starten des Notebookes auf [Binder](https://jupyter.org/binder) mit hilfe des Rocket Icons habt Ihr [zu beginn der Seite](section:jupyter_notebook) bereits gelernt. Dank diesem Server könnt Ihr den Code hinzufügen, löschen und ergänzen um Ihn danach auszuführen.\n",
    "\n",
    "Jupyternotebook ist wie beretis erwähnt auf Zellen basiert. Die Zellen können entweder [Formatierter Text im Markdown Format](section:markdowncells) oder [Python Code](section:pythoncells) sein. Jede Zelle kann separat ausgeführt werden.\n",
    "\n",
    "Der aktuelle Zellentyp kann in der Dropbox ausgewählt werden\n",
    "\n",
    "```{figure} img/jupyter_command_bar_celltype.png\n",
    "---\n",
    "width: 80%\n",
    "name: jupyter celltype\n",
    "---\n",
    "Auswahl bzw. Änderung eines Zelltyps\n",
    "```\n",
    "\n",
    "Neue Zellen können über das `Insert` Menü eingefügt werden.\n",
    "\n",
    "```{figure} img/jupyter_command_bar_insert.png\n",
    "---\n",
    "width: 80%\n",
    "name: jupyter cellinsert\n",
    "---\n",
    "Hinzufügen einer Zelle\n",
    "```\n",
    "\n",
    "Eine Zelle kann entweder mit dem `Run` Knopf oder mit <kbd>Shift</kbd>+<kbd>&#9166;</kbd> ausgeführt werden. Alternative können auch über das `Cell` Menu alle obenstehenden oder untenstehenden Zellen ausgeführt werden.\n",
    "\n",
    "```{figure} img/jupyter_command_bar_run.png\n",
    "---\n",
    "width: 80%\n",
    "name: jupyter cellrun\n",
    "---\n",
    "Ausführen einer Zelle\n",
    "```\n",
    "\n",
    "Sobald eine Zelle ausgeführt wird ist die über einen gefüllten Kreis oben rechts sichtbar. Dieser Punkt teils mit ob der Python Kernel aktiv ist oder nicht\n",
    "\n",
    "```{figure} img/jupyter_command_bar_running.png\n",
    "---\n",
    "width: 80%\n",
    "name: jupyter cellrunning\n",
    "---\n",
    "Python Kernel ist aktiv\n",
    "```\n",
    "\n",
    "Zusätzlich steht rechts neben der Zelle die eine Bemerkung `ln[<x>]`.\n",
    "\n",
    "Diese zeigt an ob eine Zelle aktuell ausgeführt wird `In [*]:`. Oder wann die Zelle seit dem Python Kernel start ausgeführt wurde `In [3]:`. Die Nummer wird bei jeder aufgeführten Zelle inkrementiert.\n",
    "\n",
    "Falls eine Zelle gestoppt werden soll, z.B. falls die Berechnung zuviel Zeit beansprucht kann dies über den `Stop` Knopf geschehen.\n",
    "\n",
    "```{figure} img/jupyter_command_bar_stop.png\n",
    "---\n",
    "width: 80%\n",
    "name: jupyter cellstop\n",
    "---\n",
    "Stoppen einer Ausführung\n",
    "```\n",
    "\n",
    "Direkt unterhalb der Zelle befindet sich das Fenster der Ausgabe der jeweiligen Zelle.\n",
    "\n",
    "```{note}\n",
    "Ihr solltet nun alle benötigten Informationen haben um Jupter Notebooks auszuführen.\n",
    "```"
   ]
  }
 ],
 "metadata": {
  "jupytext": {
   "text_representation": {
    "extension": ".md",
    "format_name": "myst",
    "format_version": "0.9",
    "jupytext_version": "1.5.2"
   }
  },
  "kernelspec": {
   "display_name": "Python 3",
   "language": "python",
   "name": "python3"
  },
  "source_map": [
   14,
   38,
   136,
   148,
   155,
   164,
   177,
   186,
   198
  ]
 },
 "nbformat": 4,
 "nbformat_minor": 5
}