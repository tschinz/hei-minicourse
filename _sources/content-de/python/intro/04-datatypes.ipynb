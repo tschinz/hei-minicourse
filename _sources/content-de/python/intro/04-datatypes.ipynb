{
 "cells": [
  {
   "cell_type": "markdown",
   "id": "702cb11c",
   "metadata": {},
   "source": [
    "# Python Datentypen\n",
    "\n",
    "Python kann ein wenig seltsam sein, da es viele Datentypen, dynamische Typzuweisung und einige Automatishe Konvertierungen bietet.\n",
    "\n",
    "\n",
    "## Zahlen\n",
    "\n",
    "Ganzzahlen, Fließkommazahlen und komplexe Zahlen sind automatisch verfügbar."
   ]
  },
  {
   "cell_type": "code",
   "execution_count": null,
   "id": "fefeb48a",
   "metadata": {},
   "outputs": [],
   "source": [
    "f = 1.0\n",
    "i = 1\n",
    "c = 0.0 + 1.0j\n",
    "\n",
    "print(f, i, c)\n",
    "print(\"Value of f is {}, value of i is {}, the value of c is {}\".format(f, i, c))\n",
    "print(\"Value of f is {:f}, value of i is {:f}, value of c**2 is {:f}\".format(f, i, c**2))"
   ]
  },
  {
   "cell_type": "markdown",
   "id": "555482b8",
   "metadata": {},
   "source": [
    "---\n",
    "\n",
    "```{note}\n",
    "The `math` module needs to be imported before you can use it.\n",
    "```"
   ]
  },
  {
   "cell_type": "code",
   "execution_count": null,
   "id": "3eb4ef49",
   "metadata": {},
   "outputs": [],
   "source": [
    "import math\n",
    "\n",
    "math.sqrt(f)   # 1.0\n",
    "math.sqrt(c)   # can't convert complex to float\n",
    "math.sqrt(-1)  # math domain error"
   ]
  },
  {
   "cell_type": "markdown",
   "id": "7ea7c707",
   "metadata": {},
   "source": [
    "### Zahlen als Objekte\n",
    "\n",
    "Praktisch alles in Python ist ein Objekt. Das bedeutet, dass es ein _Ding_ ist, das mehrere Kopien haben kann und das weiss, wie man bestimmte Operationen mit sich selbst _ausführt_.\n",
    "\n",
    "Zum Beispiel kennt eine Fliesskommazahl bestimmte Dinge, die sie tun kann, als einfach nur eine Zahl zu sein:"
   ]
  },
  {
   "cell_type": "code",
   "execution_count": null,
   "id": "be118b19",
   "metadata": {},
   "outputs": [],
   "source": [
    "f\n",
    "help(f)\n",
    "\n",
    "f.is_integer()      # True\n",
    "i.imag              # 0\n",
    "f.__truediv__(2.0)  # 0.5"
   ]
  },
  {
   "cell_type": "markdown",
   "id": "0e1defed",
   "metadata": {},
   "source": [
    "## Strings"
   ]
  },
  {
   "cell_type": "code",
   "execution_count": null,
   "id": "cbf5616e",
   "metadata": {},
   "outputs": [],
   "source": [
    "string_1 = \"Hello\"\n",
    "string_1[0]          # H\n",
    "string_1[-1]         # o\n",
    "string_1[1:]         # ello\n",
    "string_1[:-2]        # Hel\n",
    "string_1[3:3]        # ''\n",
    "len(string_1)        # 5\n",
    "string_1 + ' World'  # Hello World"
   ]
  },
  {
   "cell_type": "code",
   "execution_count": null,
   "id": "87464bb1",
   "metadata": {},
   "outputs": [],
   "source": [
    "string_2 = \"heLLo w0rlD\"\n",
    "string_2.replace(\"0\", o)  # heLLo world\n",
    "string_2.lower()          # hello w0rld\n",
    "string_2.capitalize()     # HeLLo W0rld"
   ]
  },
  {
   "cell_type": "code",
   "execution_count": null,
   "id": "4bc5db12",
   "metadata": {},
   "outputs": [],
   "source": [
    "string_3 = string_2.lower().capitalize().replace(\"0\", \"o\") # Hello world\n",
    "\n",
    "# Hello world\n",
    "# 012345678910\n",
    "\n",
    "string_3[6:] + \" \" + string_3[0:5] # World Hello"
   ]
  },
  {
   "cell_type": "markdown",
   "id": "a43786b5",
   "metadata": {},
   "source": [
    "---\n",
    "\n",
    "Eines der Probleme mit Strings als Datenstrukturen ist jedoch, dass sie unveränderlich sind. Um etwas zu ändern, müssen wir Kopien der Daten erstellen"
   ]
  },
  {
   "cell_type": "code",
   "execution_count": null,
   "id": "4bf115b8",
   "metadata": {
    "tags": [
     "raises-exception"
    ]
   },
   "outputs": [],
   "source": [
    "string_3[1] = 'a'  # creates exception"
   ]
  },
  {
   "cell_type": "markdown",
   "id": "65272db7",
   "metadata": {},
   "source": [
    "---\n",
    "\n",
    "## Datastructure\n",
    "\n",
    "### `tuples`\n",
    "\n",
    "`tuples` sind Bündel von Daten in strukturierter Form, und sie sind unveränderlich. Sie werden mit Klammern definiert `()`."
   ]
  },
  {
   "cell_type": "code",
   "execution_count": null,
   "id": "f653a5a6",
   "metadata": {},
   "outputs": [],
   "source": [
    "tuple_1 = (1.0, 2.0, 0.0)\n",
    "tuple_2 = (3.0, 2.0, 4.0)\n",
    "\n",
    "tuple_1[1]         # 2.0\n",
    "tuple_1 + tuple_2  # (1.0, 2.0, 0.0, 3.0, 2.0, 4.0)\n",
    "2*tuple_1          # (1.0, 2.0, 0.0, 1.0, 2.0, 0.0)"
   ]
  },
  {
   "cell_type": "markdown",
   "id": "859ec04c",
   "metadata": {},
   "source": [
    "Gewisse Operationen können bei `tuples` **nicht** angewendet werden"
   ]
  },
  {
   "cell_type": "code",
   "execution_count": null,
   "id": "a49135d3",
   "metadata": {
    "tags": [
     "raises-exception"
    ]
   },
   "outputs": [],
   "source": [
    "tuple_1-tuple_2\n",
    "tuple_1*tuple_2\n",
    "tuple_1[1] = 2"
   ]
  },
  {
   "cell_type": "markdown",
   "id": "14c6f731",
   "metadata": {},
   "source": [
    "### `lists`\n",
    "\n",
    "Listen\" sind flexibler als `tuples`, ihnen können Elemente zugewiesen oder entfernt werden. Es sind also veränderliche `tuples`. Sie werden mit Eckigen Klammern definiert `[]`. Sie können auch inneinander verschachtelt werden und die beinhalteten Datentypen können gemischt werden."
   ]
  },
  {
   "cell_type": "code",
   "execution_count": null,
   "id": "d1fcdbbc",
   "metadata": {},
   "outputs": [],
   "source": [
    "list_1 = [1.0, 2.0, 3.0]\n",
    "list_2 = ['a', 'b', 'c']\n",
    "list_3 = [1.0, 'a', (1, 2, 3), ['f', 'g', 'h']]"
   ]
  },
  {
   "cell_type": "code",
   "execution_count": null,
   "id": "b588a5fc",
   "metadata": {},
   "outputs": [],
   "source": [
    "list_1[2]      # 3.0\n",
    "list_2[-1]     # 'c'\n",
    "list_3[3]      # ['f', 'g', 'h']\n",
    "list_3[3][0]   # 'f'"
   ]
  },
  {
   "cell_type": "code",
   "execution_count": null,
   "id": "ead1c81a",
   "metadata": {},
   "outputs": [],
   "source": [
    "2*list_1            # [1.0, 2.0, 3.0, 1.0, 2.0, 3.0]\n",
    "list_+[0] = 0.0     #\n",
    "list_1              # [0.0, 2.0, 3.0]\n",
    "list_1.append(4.0)  # [0.0, 2.0, 3.0, 4.0]\n",
    "list_2 += 'b'       # ['a', 'b', 'c', 'b']\n",
    "list_2.remove('b')  # ['a', 'c', 'b']"
   ]
  },
  {
   "cell_type": "markdown",
   "id": "fd1d825f",
   "metadata": {},
   "source": [
    "Gewisse Operationen können bei `lists` **nicht** angewendet werden"
   ]
  },
  {
   "cell_type": "code",
   "execution_count": null,
   "id": "e35d042f",
   "metadata": {
    "tags": [
     "raises-exception"
    ]
   },
   "outputs": [],
   "source": [
    "2.0*list_1"
   ]
  },
  {
   "cell_type": "markdown",
   "id": "6a678ac5",
   "metadata": {},
   "source": [
    "### `sets`\n",
    "\n",
    "`sets` sind spezielle listenähnliche Sammlungen von eindeutigen Elementen. Beachten Sie, dass die Elemente nicht geordnet sind (es gibt kein \"s[1]\")."
   ]
  },
  {
   "cell_type": "code",
   "execution_count": null,
   "id": "e26e23c0",
   "metadata": {},
   "outputs": [],
   "source": [
    "set_1 = set([6, 5, 4, 2, 1, 1, 1, 1])\n",
    "set_1         # {1, 2, 4, 5, 6}\n",
    "set_1.add(7)  # {1, 2, 4, 5, 6, 7}\n",
    "set_1.add(3)  # {1, 2, 3, 4, 5, 6, 7}\n",
    "set_1.add(1)  # {1, 2, 3, 4, 5, 6, 7}\n",
    "\n",
    "set_2 = set([5, 6, 7, 8, 9, 10, 11])\n",
    "\n",
    "set_1.intersection(set_2) # {5, 6, 7}\n",
    "set_1.union(set_2)        # {1, 2, 3, 4, 5, 6, 7, 8, 9, 10, 11}"
   ]
  },
  {
   "cell_type": "markdown",
   "id": "ba650aeb",
   "metadata": {},
   "source": [
    "### Dictionaries\n",
    "\n",
    "Dies sind sehr nützliche Datensammlungen, in denen die Informationen anhand des Namens statt eines numerischen Indexes nachgeschlagen werden können. Dies ist als leichtgewichtige Datenbank sehr nützlich und wird häufig benötigt, wenn Module zum Einlesen von Daten verwendet werden."
   ]
  },
  {
   "cell_type": "code",
   "execution_count": null,
   "id": "bd2d1ea3",
   "metadata": {},
   "outputs": [],
   "source": [
    "dict_1 = { \"item1\": ['a', 'b', 'c'], \"item2\": ['c', 'd', 'e']}\n",
    "dict_2 = {\"Small Number\":1.0, \"Tiny Number\":0.00000001, \"Big Number\": 100000000.0}"
   ]
  },
  {
   "cell_type": "code",
   "execution_count": null,
   "id": "1c416d8d",
   "metadata": {},
   "outputs": [],
   "source": [
    "dict_1[\"item1\"]      # ['a', 'b', 'c']\n",
    "dict_1[\"item1\"][1]   # 'b'\n",
    "\n",
    "dict_2[\"Small Number\"] + dict_2[\"Tiny Number\"]  # 1.00000001\n",
    "dict_2[\"Small Number\"] + dict_2[\"Big Number\"]   # 100000001.0\n",
    "\n",
    "dict_2.keys()  # dict_keys(['Small Number', 'Tiny Number', 'Big Number'])\n",
    "\n",
    "for k in dict_2.keys():\n",
    "  print(\"{:>15s}\".format(k), \" --> \", dict_2[k])\n",
    "\n",
    "# Small Number  -->  1.0\n",
    "#  Tiny Number  -->  1e-08\n",
    "#   Big Number  -->  100000000.0"
   ]
  },
  {
   "cell_type": "markdown",
   "id": "4a76201b",
   "metadata": {},
   "source": [
    "Noch nützlicher ist die Tatsache, dass das Wörterbuch als Schlüssel alles haben kann, was mit der Funktion `hash` in eine eindeutige Zahl umgewandelt werden kann. Zeichenketten sinc pratkisch als Schlüssel, aber alles, was unveränderlich ist, kann gehasht werden:"
   ]
  },
  {
   "cell_type": "markdown",
   "id": "91ee6446",
   "metadata": {
    "solution": "hidden"
   },
   "source": [
    "### Aufgabe: Erstellen einer Reverse-Lookup-Tabelle\n",
    "\n",
    "Angenommen, Sie haben ein Wörterbuch mit Telefonnummern:\n",
    "\n",
    "```python\n",
    "phone_book = {\"Rick Sanchez\":    (\"027\", \"374 92 97\"),\n",
    "              \"Morty Smith\":     (\"079\", \"566 14 57\"),\n",
    "              \"Richard Feynman\": (\"012\", \"345 67 89\")\n",
    "             }\n",
    "```\n",
    "\n",
    "Können Sie ein umgekehrtes Telefonbuch erstellen, um herauszufinden, wer von ihrer Telefonnummer aus anruft?"
   ]
  },
  {
   "cell_type": "markdown",
   "id": "ef1be6aa",
   "metadata": {
    "solution": "shown",
    "solution_first": true
   },
   "source": [
    "__Lösung:__ Hier ist eine mögliche Lösung für die einfache Version des Problems, aber diese könnte noch eine Fehlerprüfung beinhalten (wenn man eine falsche Zahl eingibt)"
   ]
  },
  {
   "cell_type": "code",
   "execution_count": null,
   "id": "95f06829",
   "metadata": {
    "solution": "shown"
   },
   "outputs": [],
   "source": [
    "reverse_phone_book = {}\n",
    "for key in phone_book.keys():\n",
    "    reverse_phone_book[phone_book[key]] = key\n",
    "\n",
    "reverse_phone_book\n",
    "# {('027', '374 92 97'): 'Rick Sanchez',\n",
    "#  ('079', '566 14 57'): 'Morty Smith',\n",
    "#  ('012', '345 67 89'): 'Richard Feynman'}"
   ]
  }
 ],
 "metadata": {
  "jupytext": {
   "text_representation": {
    "extension": ".md",
    "format_name": "myst",
    "format_version": 0.13,
    "jupytext_version": "1.10.3"
   }
  },
  "kernelspec": {
   "display_name": "Python 3",
   "language": "python",
   "name": "python3"
  },
  "source_map": [
   12,
   23,
   31,
   39,
   45,
   53,
   60,
   64,
   75,
   82,
   89,
   95,
   99,
   109,
   116,
   120,
   125,
   131,
   137,
   144,
   151,
   155,
   158,
   164,
   175,
   181,
   186,
   201,
   206,
   221,
   225
  ]
 },
 "nbformat": 4,
 "nbformat_minor": 5
}