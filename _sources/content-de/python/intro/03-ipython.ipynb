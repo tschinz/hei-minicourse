{
 "cells": [
  {
   "cell_type": "markdown",
   "id": "7df42a88",
   "metadata": {
    "deletable": true,
    "editable": true
   },
   "source": [
    "# ipython \n",
    "\n",
    "[ipython](https://ipython.org) ist eine _interaktive_ Version des Python-Interpreters. Er bietet eine Reihe von Extras, die beim Schreiben von Code hilfreich sind. \"ipython\"-Code ist fast immer \"Python\"-Code, und die Unterschiede sind im Allgemeinen nur wichtig, wenn man den Code in einer interaktiven Umgebung bearbeitet.\n",
    "\n",
    "## ipython und Jupyternotebook\n",
    "\n",
    "Das \"Jupyter\"-Notizbuch ist ein gutes Beispiel für eine interaktive Umgebung - Sie ändern den Code, während er läuft, und überprüfen die Antworten, während Sie Zellen ausführen. Da Sie in einem interaktiven Skript viele halbfertige Ergebnisse haben können, wollen Sie wahrscheinlich so wenige Fehler wie möglich machen. Das ist der Zweck von `ipython`.\n",
    "\n",
    "`ipython` bietet Zugriff auf das Hilfe-/Dokumentationssystem, bietet Tabulatorvervollständigung von Variablen- und Funktionsnamen, erlaubt es Ihnen zu sehen, welche Methoden in einem Modul vorhanden sind ..."
   ]
  },
  {
   "cell_type": "code",
   "execution_count": null,
   "id": "b9435da5",
   "metadata": {
    "deletable": true,
    "editable": true,
    "jupyter": {
     "outputs_hidden": true
    }
   },
   "outputs": [],
   "source": [
    "## Try the autocomplete ... it works on functions that are in scope\n",
    "\n",
    "print\n",
    "\n",
    "# it also works on variables\n",
    "\n",
    "long_but_helpful_variable_name = 1\n",
    "\n",
    "long_but_helpful_variable_name"
   ]
  },
  {
   "cell_type": "markdown",
   "id": "02fb219e",
   "metadata": {
    "deletable": true,
    "editable": true
   },
   "source": [
    "---\n",
    "\n",
    "Es funktioniert mit Modulen, um die verfügbaren Methoden und Variablen aufzulisten. Nehmen Sie zum Beispiel das Modul \"math\":"
   ]
  },
  {
   "cell_type": "code",
   "execution_count": null,
   "id": "71594f4d",
   "metadata": {
    "deletable": true,
    "editable": true,
    "jupyter": {
     "outputs_hidden": false
    },
    "tags": []
   },
   "outputs": [],
   "source": [
    "import math\n",
    "\n",
    "math.isinf  # Try completion on this\n",
    "\n",
    "help(math.isnan)\n",
    "\n",
    "# try math.isinf() and hit <kbd>Shift</kbd>+<kbd>Tabulator</kbd> while the cursor is between the parentheses\n",
    "# you should see the same help pop up.\n",
    "\n",
    "# math.isinf()"
   ]
  },
  {
   "cell_type": "markdown",
   "id": "93db3b3c",
   "metadata": {
    "deletable": true,
    "editable": true
   },
   "source": [
    "---\n",
    "\n",
    "Es funktioniert bei Funktionen, die spezielle Argumente annehmen, und sagt Ihnen, was Sie angeben müssen.\n",
    "\n",
    "Probieren Sie dies aus und versuchen Sie, die Klammern mit einem <kbd>Tabulator</kbd> zu versehen, wenn Sie diese Funktion selbst verwenden:"
   ]
  },
  {
   "cell_type": "code",
   "execution_count": null,
   "id": "1e2b36f7",
   "metadata": {
    "deletable": true,
    "editable": true,
    "jupyter": {
     "outputs_hidden": false
    },
    "tags": [
     "raises-exception"
    ]
   },
   "outputs": [],
   "source": [
    "import string\n",
    "string.capwords(\"the quality of mercy is not strained\")\n",
    "\n",
    "string.capwords()"
   ]
  },
  {
   "cell_type": "markdown",
   "id": "d88b260c",
   "metadata": {
    "deletable": true,
    "editable": true
   },
   "source": [
    "## Kommandozeilen Befehle\n",
    "\n",
    "Es bietet auch die Möglichkeit Kommandozeilen Komandos auszuführen. hierfür wird die zugrunde liegende Shell / das Dateisystem benutzt. Diese Befehler müssen zubeginn jeder Zeile mit einem `!` markiert werden. **Dies ist kein Python Code mehr**"
   ]
  },
  {
   "cell_type": "code",
   "execution_count": null,
   "id": "1655f0b2",
   "metadata": {
    "deletable": true,
    "editable": true,
    "jupyter": {
     "outputs_hidden": false
    }
   },
   "outputs": [],
   "source": [
    "# execute simple unix shell commands \n",
    "\n",
    "!ls\n",
    "\n",
    "!echo \"\"\n",
    "\n",
    "!pwd"
   ]
  },
  {
   "cell_type": "markdown",
   "id": "697dd01b",
   "metadata": {
    "deletable": true,
    "editable": true
   },
   "source": [
    "---\n",
    "\n",
    "## Magics\n",
    "\n",
    "Eine andere Möglichkeit ist, die __cell magic__-Funktionalität zu verwenden, um das Notebook anzuweisen, die Zelle in etwas anderes zu ändern (hier wird alles in der Zelle als Unix-Shell interpretiert). Hierfür muss zubeginn der Zelle das **Magic** angegeben werden. Diese Befehle beginnen mit `%%` oder `%`."
   ]
  },
  {
   "cell_type": "code",
   "execution_count": null,
   "id": "aa52128e",
   "metadata": {
    "deletable": true,
    "editable": true,
    "jupyter": {
     "outputs_hidden": false
    }
   },
   "outputs": [],
   "source": [
    "%%sh \n",
    "\n",
    "ls -l\n",
    "echo \"\"\n",
    "pwd"
   ]
  },
  {
   "cell_type": "markdown",
   "id": "6cd49f1c",
   "metadata": {
    "deletable": true,
    "editable": true
   },
   "source": [
    "---\n",
    "\n",
    "  - Ein \"%\" ist eine einzeilige magische Funktion, die irgendwo innerhalb der Zelle stehen kann.\n",
    "  - Ein `%%` ist eine zellenweite magische Funktion."
   ]
  },
  {
   "cell_type": "code",
   "execution_count": null,
   "id": "30328340",
   "metadata": {
    "deletable": true,
    "editable": true,
    "jupyter": {
     "outputs_hidden": true
    }
   },
   "outputs": [],
   "source": [
    "%magic  # to see EVERYTHING in the magic system !"
   ]
  },
  {
   "cell_type": "markdown",
   "id": "0a56666e",
   "metadata": {
    "deletable": true,
    "editable": true
   },
   "source": [
    "Nützliche magische Funktionen:\n",
    "\n",
    "   - `%matplotlib inline` sorgt dafür, dass Plots im Notizbuch und nicht in einem externen Fenster erscheinen\n",
    "   - `%run FILE` führt den Inhalt der Datei anstelle der angegebenen Zelle aus\n",
    "   - `%%timeit` misst, wie lange die Zelle zum Ausführen braucht\n",
    "   \n",
    "---"
   ]
  },
  {
   "cell_type": "markdown",
   "id": "ced0a21c",
   "metadata": {
    "deletable": true,
    "editable": true
   },
   "source": [
    "Sie können ipython auch im Terminal/Shell auf Ihrem Rechner ausführen. Sie werden sehen, dass ein Teil der Interaktivität auch in einer Textumgebung funktioniert, aber nicht alle Pop-up-Hilfen sind so hilfreich wie in den Notizbüchern."
   ]
  }
 ],
 "metadata": {
  "jupytext": {
   "text_representation": {
    "extension": ".md",
    "format_name": "myst",
    "format_version": 0.12,
    "jupytext_version": "1.6.0"
   }
  },
  "kernelspec": {
   "display_name": "Python 3",
   "language": "python",
   "name": "python3"
  },
  "source_map": [
   14,
   26,
   44,
   50,
   70,
   78,
   92,
   98,
   114,
   122,
   136,
   143,
   153,
   163
  ]
 },
 "nbformat": 4,
 "nbformat_minor": 5
}